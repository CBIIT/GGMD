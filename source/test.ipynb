{
 "cells": [
  {
   "cell_type": "code",
   "execution_count": 1,
   "metadata": {},
   "outputs": [],
   "source": [
    "import pandas as pd"
   ]
  },
  {
   "cell_type": "code",
   "execution_count": 4,
   "metadata": {},
   "outputs": [
    {
     "data": {
      "text/html": [
       "<div>\n",
       "<style scoped>\n",
       "    .dataframe tbody tr th:only-of-type {\n",
       "        vertical-align: middle;\n",
       "    }\n",
       "\n",
       "    .dataframe tbody tr th {\n",
       "        vertical-align: top;\n",
       "    }\n",
       "\n",
       "    .dataframe thead th {\n",
       "        text-align: right;\n",
       "    }\n",
       "</style>\n",
       "<table border=\"1\" class=\"dataframe\">\n",
       "  <thead>\n",
       "    <tr style=\"text-align: right;\">\n",
       "      <th></th>\n",
       "      <th>compound_id</th>\n",
       "      <th>smiles</th>\n",
       "      <th>latent</th>\n",
       "      <th>cost</th>\n",
       "      <th>parent1_id</th>\n",
       "      <th>parent2_id</th>\n",
       "    </tr>\n",
       "  </thead>\n",
       "  <tbody>\n",
       "    <tr>\n",
       "      <th>0</th>\n",
       "      <td>376.0</td>\n",
       "      <td>COC(=O)C1=C(C)Nc2nnnn2C1c1cccc(OC)c1OC</td>\n",
       "      <td>[-0.4846851   0.91679513 -0.72066045  0.388779...</td>\n",
       "      <td>-3.218088</td>\n",
       "      <td>NaN</td>\n",
       "      <td>NaN</td>\n",
       "    </tr>\n",
       "    <tr>\n",
       "      <th>1</th>\n",
       "      <td>422.0</td>\n",
       "      <td>CC(C)(C)N1C(=O)NC2C1NC(=O)N2C(C)(C)C</td>\n",
       "      <td>[-0.7855216   0.27154928 -0.5038816  -1.635248...</td>\n",
       "      <td>-4.813596</td>\n",
       "      <td>NaN</td>\n",
       "      <td>NaN</td>\n",
       "    </tr>\n",
       "    <tr>\n",
       "      <th>2</th>\n",
       "      <td>389.0</td>\n",
       "      <td>COC(=O)C1=C(C)NC(=O)NC1c1ccc(OCC(N)=O)cc1</td>\n",
       "      <td>[-0.90911627  0.66899997 -0.80562305 -0.103465...</td>\n",
       "      <td>-3.032058</td>\n",
       "      <td>NaN</td>\n",
       "      <td>NaN</td>\n",
       "    </tr>\n",
       "    <tr>\n",
       "      <th>3</th>\n",
       "      <td>342.0</td>\n",
       "      <td>Cn1c(=O)c2c(nc(N3CCCC3)n2CC(O)CO)n(C)c1=O</td>\n",
       "      <td>[-1.68034506e+00  8.07151675e-01  1.43213892e+...</td>\n",
       "      <td>-5.676623</td>\n",
       "      <td>NaN</td>\n",
       "      <td>NaN</td>\n",
       "    </tr>\n",
       "    <tr>\n",
       "      <th>4</th>\n",
       "      <td>14.0</td>\n",
       "      <td>C=C1C(CO)C(O)CC1n1cnc2c(=O)[nH]c(N)nc21</td>\n",
       "      <td>[-6.05822563e-01 -6.84394062e-01  8.55886340e-...</td>\n",
       "      <td>-7.074240</td>\n",
       "      <td>NaN</td>\n",
       "      <td>NaN</td>\n",
       "    </tr>\n",
       "  </tbody>\n",
       "</table>\n",
       "</div>"
      ],
      "text/plain": [
       "   compound_id                                     smiles  \\\n",
       "0        376.0     COC(=O)C1=C(C)Nc2nnnn2C1c1cccc(OC)c1OC   \n",
       "1        422.0       CC(C)(C)N1C(=O)NC2C1NC(=O)N2C(C)(C)C   \n",
       "2        389.0  COC(=O)C1=C(C)NC(=O)NC1c1ccc(OCC(N)=O)cc1   \n",
       "3        342.0  Cn1c(=O)c2c(nc(N3CCCC3)n2CC(O)CO)n(C)c1=O   \n",
       "4         14.0    C=C1C(CO)C(O)CC1n1cnc2c(=O)[nH]c(N)nc21   \n",
       "\n",
       "                                              latent      cost  parent1_id  \\\n",
       "0  [-0.4846851   0.91679513 -0.72066045  0.388779... -3.218088         NaN   \n",
       "1  [-0.7855216   0.27154928 -0.5038816  -1.635248... -4.813596         NaN   \n",
       "2  [-0.90911627  0.66899997 -0.80562305 -0.103465... -3.032058         NaN   \n",
       "3  [-1.68034506e+00  8.07151675e-01  1.43213892e+... -5.676623         NaN   \n",
       "4  [-6.05822563e-01 -6.84394062e-01  8.55886340e-... -7.074240         NaN   \n",
       "\n",
       "   parent2_id  \n",
       "0         NaN  \n",
       "1         NaN  \n",
       "2         NaN  \n",
       "3         NaN  \n",
       "4         NaN  "
      ]
     },
     "execution_count": 4,
     "metadata": {},
     "output_type": "execute_result"
    }
   ],
   "source": [
    "df = pd.read_csv(\"evaluated_pop.csv\")\n",
    "df.head()"
   ]
  },
  {
   "cell_type": "code",
   "execution_count": 3,
   "metadata": {},
   "outputs": [
    {
     "data": {
      "text/plain": [
       "226"
      ]
     },
     "execution_count": 3,
     "metadata": {},
     "output_type": "execute_result"
    }
   ],
   "source": [
    "df['smiles'].isna().sum()"
   ]
  },
  {
   "cell_type": "code",
   "execution_count": 5,
   "metadata": {},
   "outputs": [
    {
     "data": {
      "text/plain": [
       "(358, 6)"
      ]
     },
     "execution_count": 5,
     "metadata": {},
     "output_type": "execute_result"
    }
   ],
   "source": [
    "df.shape"
   ]
  },
  {
   "cell_type": "code",
   "execution_count": 14,
   "metadata": {},
   "outputs": [
    {
     "name": "stdout",
     "output_type": "stream",
     "text": [
      "Number of smiles incorrectly decoded:  64  Reconstruction error:  12.8 %\n"
     ]
    }
   ],
   "source": [
    "og_sm = df['smiles'].tolist()\n",
    "new_sm = df['new_smiles'].tolist()\n",
    "\n",
    "#len(og_sm) == len(new_sm)\n",
    "count = 0\n",
    "for i in range(len(og_sm)):\n",
    "    if og_sm[i] == new_sm[i]:\n",
    "        pass\n",
    "    elif og_sm[i] in new_sm:\n",
    "        print(\"hmm\")\n",
    "    else:\n",
    "        #print(i)\n",
    "        count += 1\n",
    "\n",
    "print(\"Number of smiles incorrectly decoded: \", count, \" Reconstruction error: \", 100*(count / (len(og_sm))), \"%\")"
   ]
  },
  {
   "attachments": {},
   "cell_type": "markdown",
   "metadata": {},
   "source": [
    "## Testing out idea for new encoding methods in generative_network.py for LC JTVAE"
   ]
  },
  {
   "cell_type": "code",
   "execution_count": null,
   "metadata": {},
   "outputs": [],
   "source": [
    "df = df.iloc[:5]\n",
    "df.head(10)"
   ]
  },
  {
   "cell_type": "code",
   "execution_count": null,
   "metadata": {},
   "outputs": [],
   "source": [
    "l = [True, True, True, False, False]\n",
    "df = df.iloc[l]\n",
    "df.head(10)"
   ]
  },
  {
   "cell_type": "code",
   "execution_count": 14,
   "metadata": {},
   "outputs": [
    {
     "data": {
      "text/html": [
       "<div>\n",
       "<style scoped>\n",
       "    .dataframe tbody tr th:only-of-type {\n",
       "        vertical-align: middle;\n",
       "    }\n",
       "\n",
       "    .dataframe tbody tr th {\n",
       "        vertical-align: top;\n",
       "    }\n",
       "\n",
       "    .dataframe thead th {\n",
       "        text-align: right;\n",
       "    }\n",
       "</style>\n",
       "<table border=\"1\" class=\"dataframe\">\n",
       "  <thead>\n",
       "    <tr style=\"text-align: right;\">\n",
       "      <th></th>\n",
       "      <th>smiles</th>\n",
       "      <th>latent</th>\n",
       "    </tr>\n",
       "  </thead>\n",
       "  <tbody>\n",
       "    <tr>\n",
       "      <th>0</th>\n",
       "      <td>CC1C2CCC(C2)C1CN(CCO)C(=O)c1ccc(Cl)cc1</td>\n",
       "      <td>1</td>\n",
       "    </tr>\n",
       "    <tr>\n",
       "      <th>1</th>\n",
       "      <td>COc1ccc(-c2cc(=O)c3c(O)c(OC)c(OC)cc3o2)cc1O</td>\n",
       "      <td>2</td>\n",
       "    </tr>\n",
       "    <tr>\n",
       "      <th>2</th>\n",
       "      <td>CCOC(=O)c1ncn2c1CN(C)C(=O)c1cc(F)ccc1-2</td>\n",
       "      <td>3</td>\n",
       "    </tr>\n",
       "    <tr>\n",
       "      <th>3</th>\n",
       "      <td>Clc1ccccc1-c1nc(-c2ccncc2)no1</td>\n",
       "      <td></td>\n",
       "    </tr>\n",
       "    <tr>\n",
       "      <th>4</th>\n",
       "      <td>CC(C)(Oc1ccc(Cl)cc1)C(=O)OCc1cccc(CO)n1</td>\n",
       "      <td></td>\n",
       "    </tr>\n",
       "  </tbody>\n",
       "</table>\n",
       "</div>"
      ],
      "text/plain": [
       "                                        smiles latent\n",
       "0       CC1C2CCC(C2)C1CN(CCO)C(=O)c1ccc(Cl)cc1      1\n",
       "1  COc1ccc(-c2cc(=O)c3c(O)c(OC)c(OC)cc3o2)cc1O      2\n",
       "2      CCOC(=O)c1ncn2c1CN(C)C(=O)c1cc(F)ccc1-2      3\n",
       "3                Clc1ccccc1-c1nc(-c2ccncc2)no1       \n",
       "4      CC(C)(Oc1ccc(Cl)cc1)C(=O)OCc1cccc(CO)n1       "
      ]
     },
     "execution_count": 14,
     "metadata": {},
     "output_type": "execute_result"
    }
   ],
   "source": [
    "latent = ['1', '2', '3', '', '']\n",
    "df['latent'] = latent\n",
    "\n",
    "df.head()"
   ]
  },
  {
   "cell_type": "code",
   "execution_count": 38,
   "metadata": {},
   "outputs": [
    {
     "data": {
      "text/plain": [
       "['CC1C2CCC(C2)C1CN(CCO)C(=O)c1ccc(Cl)cc1',\n",
       " 'COc1ccc(-c2cc(=O)c3c(O)c(OC)c(OC)cc3o2)cc1O',\n",
       " 'CCOC(=O)c1ncn2c1CN(C)C(=O)c1cc(F)ccc1-2',\n",
       " 'Clc1ccccc1-c1nc(-c2ccncc2)no1',\n",
       " 'CC(C)(Oc1ccc(Cl)cc1)C(=O)OCc1cccc(CO)n1']"
      ]
     },
     "execution_count": 38,
     "metadata": {},
     "output_type": "execute_result"
    }
   ],
   "source": [
    "list(df['smiles'].loc[df['latent'].isna()])"
   ]
  },
  {
   "cell_type": "code",
   "execution_count": 39,
   "metadata": {},
   "outputs": [
    {
     "data": {
      "text/html": [
       "<div>\n",
       "<style scoped>\n",
       "    .dataframe tbody tr th:only-of-type {\n",
       "        vertical-align: middle;\n",
       "    }\n",
       "\n",
       "    .dataframe tbody tr th {\n",
       "        vertical-align: top;\n",
       "    }\n",
       "\n",
       "    .dataframe thead th {\n",
       "        text-align: right;\n",
       "    }\n",
       "</style>\n",
       "<table border=\"1\" class=\"dataframe\">\n",
       "  <thead>\n",
       "    <tr style=\"text-align: right;\">\n",
       "      <th></th>\n",
       "      <th>compound_id</th>\n",
       "      <th>smiles</th>\n",
       "      <th>latent</th>\n",
       "    </tr>\n",
       "  </thead>\n",
       "  <tbody>\n",
       "    <tr>\n",
       "      <th>0</th>\n",
       "      <td>0</td>\n",
       "      <td>CC1C2CCC(C2)C1CN(CCO)C(=O)c1ccc(Cl)cc1</td>\n",
       "      <td>a</td>\n",
       "    </tr>\n",
       "    <tr>\n",
       "      <th>1</th>\n",
       "      <td>1</td>\n",
       "      <td>COc1ccc(-c2cc(=O)c3c(O)c(OC)c(OC)cc3o2)cc1O</td>\n",
       "      <td>NaN</td>\n",
       "    </tr>\n",
       "    <tr>\n",
       "      <th>2</th>\n",
       "      <td>2</td>\n",
       "      <td>CCOC(=O)c1ncn2c1CN(C)C(=O)c1cc(F)ccc1-2</td>\n",
       "      <td>NaN</td>\n",
       "    </tr>\n",
       "    <tr>\n",
       "      <th>3</th>\n",
       "      <td>3</td>\n",
       "      <td>Clc1ccccc1-c1nc(-c2ccncc2)no1</td>\n",
       "      <td>b</td>\n",
       "    </tr>\n",
       "    <tr>\n",
       "      <th>4</th>\n",
       "      <td>4</td>\n",
       "      <td>CC(C)(Oc1ccc(Cl)cc1)C(=O)OCc1cccc(CO)n1</td>\n",
       "      <td>NaN</td>\n",
       "    </tr>\n",
       "  </tbody>\n",
       "</table>\n",
       "</div>"
      ],
      "text/plain": [
       "   compound_id                                       smiles latent\n",
       "0            0       CC1C2CCC(C2)C1CN(CCO)C(=O)c1ccc(Cl)cc1      a\n",
       "1            1  COc1ccc(-c2cc(=O)c3c(O)c(OC)c(OC)cc3o2)cc1O    NaN\n",
       "2            2      CCOC(=O)c1ncn2c1CN(C)C(=O)c1cc(F)ccc1-2    NaN\n",
       "3            3                Clc1ccccc1-c1nc(-c2ccncc2)no1      b\n",
       "4            4      CC(C)(Oc1ccc(Cl)cc1)C(=O)OCc1cccc(CO)n1    NaN"
      ]
     },
     "execution_count": 39,
     "metadata": {},
     "output_type": "execute_result"
    }
   ],
   "source": [
    "smiles = ['CC1C2CCC(C2)C1CN(CCO)C(=O)c1ccc(Cl)cc1', 'Clc1ccccc1-c1nc(-c2ccncc2)no1']\n",
    "latent = ['a', 'b']\n",
    "for s, l in zip(smiles, latent):\n",
    "    df['latent'].loc[df['smiles'] == s] = l\n",
    "\n",
    "df.head(10)"
   ]
  },
  {
   "cell_type": "code",
   "execution_count": 21,
   "metadata": {},
   "outputs": [
    {
     "data": {
      "text/plain": [
       "['a', 'b']"
      ]
     },
     "execution_count": 21,
     "metadata": {},
     "output_type": "execute_result"
    }
   ],
   "source": [
    "df"
   ]
  },
  {
   "cell_type": "code",
   "execution_count": 4,
   "metadata": {},
   "outputs": [],
   "source": [
    "a = pd.DataFrame()\n",
    "a['1'] = [1,2,3,4,5,6]\n",
    "a['2'] = [10,11,12,13,14,15]\n",
    "\n",
    "b = pd.DataFrame()\n",
    "b['1'] = [1,2,3,7,8,9]\n",
    "b['2'] = [16,17,18,19,20,21]\n"
   ]
  },
  {
   "cell_type": "code",
   "execution_count": 10,
   "metadata": {},
   "outputs": [
    {
     "data": {
      "text/html": [
       "<div>\n",
       "<style scoped>\n",
       "    .dataframe tbody tr th:only-of-type {\n",
       "        vertical-align: middle;\n",
       "    }\n",
       "\n",
       "    .dataframe tbody tr th {\n",
       "        vertical-align: top;\n",
       "    }\n",
       "\n",
       "    .dataframe thead th {\n",
       "        text-align: right;\n",
       "    }\n",
       "</style>\n",
       "<table border=\"1\" class=\"dataframe\">\n",
       "  <thead>\n",
       "    <tr style=\"text-align: right;\">\n",
       "      <th></th>\n",
       "      <th>1</th>\n",
       "      <th>2</th>\n",
       "    </tr>\n",
       "  </thead>\n",
       "  <tbody>\n",
       "    <tr>\n",
       "      <th>0</th>\n",
       "      <td>1</td>\n",
       "      <td>10</td>\n",
       "    </tr>\n",
       "    <tr>\n",
       "      <th>1</th>\n",
       "      <td>2</td>\n",
       "      <td>11</td>\n",
       "    </tr>\n",
       "    <tr>\n",
       "      <th>2</th>\n",
       "      <td>3</td>\n",
       "      <td>12</td>\n",
       "    </tr>\n",
       "    <tr>\n",
       "      <th>3</th>\n",
       "      <td>4</td>\n",
       "      <td>13</td>\n",
       "    </tr>\n",
       "    <tr>\n",
       "      <th>4</th>\n",
       "      <td>5</td>\n",
       "      <td>14</td>\n",
       "    </tr>\n",
       "    <tr>\n",
       "      <th>5</th>\n",
       "      <td>6</td>\n",
       "      <td>15</td>\n",
       "    </tr>\n",
       "    <tr>\n",
       "      <th>6</th>\n",
       "      <td>7</td>\n",
       "      <td>19</td>\n",
       "    </tr>\n",
       "    <tr>\n",
       "      <th>7</th>\n",
       "      <td>8</td>\n",
       "      <td>20</td>\n",
       "    </tr>\n",
       "    <tr>\n",
       "      <th>8</th>\n",
       "      <td>9</td>\n",
       "      <td>21</td>\n",
       "    </tr>\n",
       "  </tbody>\n",
       "</table>\n",
       "</div>"
      ],
      "text/plain": [
       "   1   2\n",
       "0  1  10\n",
       "1  2  11\n",
       "2  3  12\n",
       "3  4  13\n",
       "4  5  14\n",
       "5  6  15\n",
       "6  7  19\n",
       "7  8  20\n",
       "8  9  21"
      ]
     },
     "execution_count": 10,
     "metadata": {},
     "output_type": "execute_result"
    }
   ],
   "source": [
    "pd.concat([a, b]).drop_duplicates(subset='1', ignore_index=True)"
   ]
  },
  {
   "cell_type": "code",
   "execution_count": null,
   "metadata": {},
   "outputs": [],
   "source": []
  }
 ],
 "metadata": {
  "kernelspec": {
   "display_name": "atomsci",
   "language": "python",
   "name": "python3"
  },
  "language_info": {
   "codemirror_mode": {
    "name": "ipython",
    "version": 3
   },
   "file_extension": ".py",
   "mimetype": "text/x-python",
   "name": "python",
   "nbconvert_exporter": "python",
   "pygments_lexer": "ipython3",
   "version": "3.7.10"
  },
  "orig_nbformat": 4,
  "vscode": {
   "interpreter": {
    "hash": "a9deb08940a93deb09c2443c557de5fa61d0d4ae54cd0182a147bfbb433abc7e"
   }
  }
 },
 "nbformat": 4,
 "nbformat_minor": 2
}
